{
 "cells": [
  {
   "cell_type": "code",
   "execution_count": 17,
   "metadata": {},
   "outputs": [
    {
     "name": "stdout",
     "output_type": "stream",
     "text": [
      "<Response [404]>\n"
     ]
    }
   ],
   "source": [
    "import requests\n",
    "import time\n",
    "\n",
    "from bs4 import BeautifulSoup\n",
    "\n",
    "BASE_URL = u\"http://www1.mbrace.or.jp/od2/B/201809/b180931.lzh\"\n",
    "EXTENSION = u\"*.zip\"\n",
    "\n",
    "urls = [u\"http://www1.mbrace.or.jp/od2/B/201809/b180931.lzh\"]\n",
    "\"\"\"\n",
    "for url in urls:\n",
    "\n",
    "    download_urls = []\n",
    "    r = requests.get(url)\n",
    "    print(r)\n",
    "    soup = BeautifulSoup(r.content,\"lxml\")\n",
    "    print(soup)\n",
    "    links = soup.findAll('a')\n",
    "    print(links)\n",
    "\n",
    "    # URLの抽出\n",
    "    for link in links:\n",
    "\n",
    "        href = link.get('href')\n",
    "\n",
    "        if href and EXTENSION in href:\n",
    "            download_urls.append(href)\n",
    "print(download_urls)\n",
    "\"\"\"\n",
    "download_urls=[\"http://www1.mbrace.or.jp/od2/B/201809\"]\n",
    "    # ファイルのダウンロード（ひとまず3件に制限）\n",
    "for download_url in download_urls:\n",
    "\n",
    "    # 一秒スリープ\n",
    "    time.sleep(1)\n",
    "\n",
    "    file_name = download_url.split(\"/\")[-1]\n",
    "\n",
    "    if BASE_URL in download_url:\n",
    "        r = requests.get(download_url)\n",
    "    else:\n",
    "        r = requests.get(BASE_URL + download_url)\n",
    "\n",
    "    # ファイルの保存\n",
    "    print(r)\n",
    "    if r.status_code == 200:\n",
    "        f = open(file_name, 'w')\n",
    "        f.write(r.content)\n",
    "        f.close()\n",
    "#\"\"\""
   ]
  },
  {
   "cell_type": "markdown",
   "metadata": {},
   "source": [
    "ボートレース協会のファイルダウンロードについて  \n",
    "形式：.lzh  \n",
    "URL：　http://www1.mbrace.or.jp/od2/(B or K)/year+month/(b or k)+year+month+day.lzh  \n",
    "ex.) http://www1.mbrace.or.jp/od2/B/201808/b180801.lzh (2018年8月1日の番組表)  \n",
    "B：番組表(競艇新聞に載っているデータ)  \n",
    "K：競走成績（試合結果のデータ） \n"
   ]
  },
  {
   "cell_type": "code",
   "execution_count": 41,
   "metadata": {},
   "outputs": [
    {
     "name": "stdout",
     "output_type": "stream",
     "text": [
      "./tmpB/180801.lzh downloaded success\n",
      "file download finished!\n"
     ]
    }
   ],
   "source": [
    "import urllib.request\n",
    "import sys\n",
    "import time\n",
    "import os\n",
    "year=[\"2018\"]\n",
    "month=[\"12\",\"11\",\"10\",\"09\",\"08\",\"07\",\"06\",\"05\",\"04\",\"03\",\"02\",\"01\"]\n",
    "day=[\"31\",\"30\",\"29\",\"28\",\"27\",\"26\",\"25\",\"24\",\"23\",\"22\",\"21\",\"20\",\"19\",\"18\",\"17\",\"16\",\"15\",\"14\",\"13\",\"12\",\"11\",\"10\",\"09\",\"08\",\"07\",\"06\",\"05\",\"04\",\"03\",\"02\",\"01\"]\n",
    "\n",
    "species=[[\"B\",\"b\",\"paper_data\"],[\"K\",\"k\",\"result_data\"]]\n",
    "for spe in species:\n",
    "    base=\"http://www1.mbrace.or.jp/od2/\"+spe[0]+\"/\"\n",
    "    for y in year:\n",
    "        for m in month:\n",
    "            for d in day:\n",
    "                ###rename point   \n",
    "                #you need to choice K or B\n",
    "                f_check=\"./\"+spe[2]+\"/\"+spe[0]+y[-2:]+m+d+\".TXT\"\n",
    "                title=\"./tmp\"+spe[0]+\"/\"+y[-2:]+m+d+\".lzh\"\n",
    "                path=base+y+m+\"/\"+spe[1]+y[-2:]+m+d+\".lzh\"\n",
    "\n",
    "                if os.path.isfile(f_check)==True:\n",
    "                    sys.stdout.write(\"{} already exists.\\r\".format(f_check))\n",
    "                else:\n",
    "                    sys.stdout.write(\"get {} .\\r\".format(title))\n",
    "\n",
    "                    try:\n",
    "                        urllib.request.urlretrieve(path,\"{0}\".format(title))\n",
    "                        sys.stdout.write(\"{} downloaded success\\r\".format(title))\n",
    "                        #サーバに負荷をかけすぎないようにしよう\n",
    "                        time.sleep(1)\n",
    "                    except:\n",
    "                        print(\"{}  is bad request.\".format(path))\n",
    "                \n",
    "    print(\"\\nfile download finished!\")"
   ]
  },
  {
   "cell_type": "markdown",
   "metadata": {},
   "source": [
    "# ここの処理の前に手作業で一度lzhファイルを解凍してね"
   ]
  },
  {
   "cell_type": "code",
   "execution_count": 42,
   "metadata": {},
   "outputs": [],
   "source": [
    "import glob\n",
    "import shutil\n",
    "B_move=[shutil.move(j,\"./paper_data\") for j in glob.glob(\"./tmpB/*.TXT\")]\n",
    "B_del=[os.remove(j) for j in glob.glob(\"./tmpB/*.lzh\")]\n",
    "K_move=[shutil.move(j,\"./result_data\") for j in glob.glob(\"./tmpK/*.TXT\")]\n",
    "K_del=[os.remove(j) for j in glob.glob(\"./tmpK/*.lzh\")]"
   ]
  },
  {
   "cell_type": "code",
   "execution_count": null,
   "metadata": {},
   "outputs": [],
   "source": []
  }
 ],
 "metadata": {
  "kernelspec": {
   "display_name": "Python 3",
   "language": "python",
   "name": "python3"
  },
  "language_info": {
   "codemirror_mode": {
    "name": "ipython",
    "version": 3
   },
   "file_extension": ".py",
   "mimetype": "text/x-python",
   "name": "python",
   "nbconvert_exporter": "python",
   "pygments_lexer": "ipython3",
   "version": "3.6.4"
  }
 },
 "nbformat": 4,
 "nbformat_minor": 2
}
