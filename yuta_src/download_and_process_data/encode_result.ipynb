{
 "cells": [
  {
   "cell_type": "code",
   "execution_count": 1,
   "metadata": {},
   "outputs": [],
   "source": [
    "import codecs\n",
    "import re\n",
    "import numpy as np\n",
    "import pandas as pd\n",
    "import sys\n",
    "import os\n",
    "import glob\n",
    "import time\n",
    "path=\"./result_data/K\"\n",
    "place_catch=\"常滑\"\n",
    "data=pd.DataFrame(columns=[\"date\",\"place\",\"race_num\",\"race_rank\",\"position\",\"goal\",\"id\",\"name\",\"motor\",\"boat\",\"tenji\",\"shinnyu\",\"start\",\"time\",\"weather\",\"wind_dir\",\"wind_st\",\"wave\",\"kimarite\"])"
   ]
  },
  {
   "cell_type": "code",
   "execution_count": 2,
   "metadata": {},
   "outputs": [],
   "source": [
    "def data_clean(data):\n",
    "    tmp=data.replace(\"\\u3000\",\"\")\n",
    "    tmp=tmp.replace(\"\\r\\n\",\"\")\n",
    "    tmp=re.split(\" +\",tmp)\n",
    "    return tmp\n",
    "\n",
    "def get_weather(w1,w2):\n",
    "    w1.pop(0)\n",
    "    w2.pop(0)\n",
    "    if w1[0].find(\"R\")!=-1:\n",
    "        return w1,w2[-1]\n",
    "    if w2[0].find(\"R\")!=-1:\n",
    "        return w2,w1[-1]"
   ]
  },
  {
   "cell_type": "code",
   "execution_count": 3,
   "metadata": {},
   "outputs": [],
   "source": [
    "def get_place(tmp):\n",
    "    place=data_clean(tmp)\n",
    "    return place\n",
    "\n",
    "\n",
    "def add_data(date,test,each,weather,kimarite,place):\n",
    "    st=re.split(\" +\",each)\n",
    "    tmp_data=[st[2],st[1].replace(\"0\",\"\"),st[3],st[4].replace(\"\\u3000\",\"\"),st[5],st[6],st[7],st[8],st[9],st[10].replace(\"\\r\\n\",\"\")]\n",
    "    concat_data=[date,place]+[weather[0].replace(\"R\",\"\")]+[weather[1]]+tmp_data+[weather[-6],weather[-4]]+[weather[-3].replace(\"m\",\"\")]+[weather[-1].replace(\"cm\",\"\")]+[kimarite]\n",
    "\n",
    "    add=pd.DataFrame([concat_data],columns=test.columns)\n",
    "    #test.appned(pd.DataFrame([[st[1],st[2],st[4].replace(\"\\u3000\",\"\")], columns=[\"rane\",\"goal\",\"name\"]))\n",
    "    #test=np.append(test,[st[1],st[2]],axis=0)\n",
    "    #test=np.append(test,[add_data],axis=0)\n",
    "    return add"
   ]
  },
  {
   "cell_type": "code",
   "execution_count": 4,
   "metadata": {},
   "outputs": [],
   "source": [
    "def get_data(date,test,file,place_catch):\n",
    "    line_num=0\n",
    "    tmp=[-1,-1]\n",
    "    with codecs.open(file,\"r\", \"Shift-JIS\", \"ignore\") as race:\n",
    "        for i,each in enumerate(race):\n",
    "\n",
    "            #ボートレース開催地を取得\n",
    "            if each.find(\"ボートレース\")!=-1:\n",
    "                place_tmp=get_place(each)\n",
    "                place=place_tmp[-1].replace(\"ボートレース\",\"\")\n",
    "\n",
    "            #レース情報の前に発生するハイフン列を取得    \n",
    "            if each.find(\"---\")!=-1:\n",
    "                tmp=[i+1,i+6]\n",
    "                weather,kimarite=get_weather(line_odd,line_even)\n",
    "\n",
    "            if line_num%2==0:\n",
    "                line_odd=data_clean(each)\n",
    "                #print(line_tmp_1)\n",
    "                line_num+=1\n",
    "            else:\n",
    "                line_even=data_clean(each)\n",
    "                #print(\"{}\".format(line_tmp_2))\n",
    "                line_num+=1\n",
    "\n",
    "            # リストにデータを追加\n",
    "            if i>=tmp[0] and i<=tmp[1] and place==place_catch:\n",
    "                test=test.append(add_data(date,test,each,weather,kimarite,place_catch))\n",
    "    return test"
   ]
  },
  {
   "cell_type": "code",
   "execution_count": 5,
   "metadata": {},
   "outputs": [
    {
     "name": "stdout",
     "output_type": "stream",
     "text": [
      " call:./result_data/K180227.TXT\n",
      "finish:25.524890899658203sec\n"
     ]
    }
   ],
   "source": [
    "st=time.time()\n",
    "for file in glob.glob(path+\"*.TXT\"):\n",
    "    sys.stdout.write(\"\\r call:{}\".format(file))\n",
    "    tmp_data=pd.DataFrame(columns=[\"date\",\"place\",\"race_num\",\"race_rank\",\"position\",\"goal\",\"id\",\"name\",\"motor\",\"boat\",\"tenji\",\"shinnyu\",\"start\",\"time\",\"weather\",\"wind_dir\",\"wind_st\",\"wave\",\"kimarite\"])\n",
    "    date=file.replace(path,\"\")\n",
    "    date=date.replace(\".TXT\",\"\")\n",
    "    tmp_data=get_data(date,tmp_data,file,place_catch)\n",
    "    data=pd.concat([data,tmp_data],axis=0)\n",
    "ela=round(time.time()-st,2)\n",
    "print(\"\\nfinish:{}sec\".format(ela))"
   ]
  },
  {
   "cell_type": "code",
   "execution_count": 8,
   "metadata": {},
   "outputs": [],
   "source": [
    "data.to_csv(\"csv_files/result.csv\",encoding=\"shift_jis\")"
   ]
  },
  {
   "cell_type": "code",
   "execution_count": null,
   "metadata": {},
   "outputs": [],
   "source": []
  }
 ],
 "metadata": {
  "kernelspec": {
   "display_name": "Python 3",
   "language": "python",
   "name": "python3"
  },
  "language_info": {
   "codemirror_mode": {
    "name": "ipython",
    "version": 3
   },
   "file_extension": ".py",
   "mimetype": "text/x-python",
   "name": "python",
   "nbconvert_exporter": "python",
   "pygments_lexer": "ipython3",
   "version": "3.6.4"
  }
 },
 "nbformat": 4,
 "nbformat_minor": 2
}
