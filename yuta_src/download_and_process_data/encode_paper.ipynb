{
 "cells": [
  {
   "cell_type": "code",
   "execution_count": 42,
   "metadata": {},
   "outputs": [],
   "source": [
    "import codecs\n",
    "import pandas as pd\n",
    "import glob\n",
    "import re\n",
    "import sys\n",
    "import time\n",
    "path=\"./paper_data/B\"\n",
    "place_catch=\"常滑\"\n",
    "data=pd.DataFrame(columns=[\"date\",\"place\",\"race_num\",\"race_rank\",\"position\",\"id\",\"name\",\"age\",\"belongs\",\"weight\",\"player_rank\",\"country_win\",\"country_sub\",\"local_win\",\"local_sub\",\"motor\",\"boat\"])"
   ]
  },
  {
   "cell_type": "code",
   "execution_count": 43,
   "metadata": {},
   "outputs": [],
   "source": [
    "def data_clean(data):\n",
    "    tmp=data.replace(\"\\u3000\",\"\")\n",
    "    tmp=tmp.replace(\"\\r\\n\",\"\")\n",
    "    tmp=re.split(\" +\",tmp)\n",
    "    return tmp"
   ]
  },
  {
   "cell_type": "code",
   "execution_count": 44,
   "metadata": {},
   "outputs": [],
   "source": [
    "def get_place(tmp):\n",
    "    place=data_clean(tmp)\n",
    "    return place\n",
    "\n",
    "\n",
    "def add_data(date,test,each,weather,place):\n",
    "    st=re.split(\" +\",each)\n",
    "    name=st[1].replace(\"\\u3000\",\" \")\n",
    "    tmp_data=[st[0],name[0:4],name[4:8],name[8:10],name[10:12],name[12:14],name[14:16]]+[each[18:23],each[23:29],each[29:34],each[34:40],each[43:49],each[52:58]]\n",
    "    concat_data=[date,place]+[weather[0][:-1],weather[1]]+tmp_data\n",
    "    add=pd.DataFrame([concat_data],columns=test.columns)\n",
    "    \n",
    "    return add"
   ]
  },
  {
   "cell_type": "code",
   "execution_count": 45,
   "metadata": {},
   "outputs": [],
   "source": [
    "def get_data(date,test,file,place_catch):\n",
    "    line_num=0\n",
    "    tmp=[-1,-1]\n",
    "    hyphen=0\n",
    "    with codecs.open(file,\"r\", \"Shift-JIS\", \"ignore\") as race:\n",
    "        for i,each in enumerate(race):\n",
    "\n",
    "            #ボートレース開催地を取得\n",
    "            if each.find(\"ボートレース\")!=-1:\n",
    "                place_tmp=get_place(each)\n",
    "                place=place_tmp[-1].replace(\"ボートレース\",\"\")\n",
    "\n",
    "            #レース情報の前に発生するハイフン列を取得    \n",
    "            if each.find(\"---\")!=-1:\n",
    "                hyphen+=1\n",
    "                if hyphen%2==1:\n",
    "                    weather=line_even\n",
    "                if hyphen%2==0:\n",
    "                    tmp=[i+1,i+6]\n",
    "\n",
    "            if line_num%2==1:\n",
    "                line_even=data_clean(each)\n",
    "            line_num+=1\n",
    "\n",
    "            # リストにデータを追加\n",
    "            if i>=tmp[0] and i<=tmp[1] and place==place_catch:\n",
    "                test=test.append(add_data(date,test,each,weather,place_catch))\n",
    "    return test"
   ]
  },
  {
   "cell_type": "code",
   "execution_count": 46,
   "metadata": {},
   "outputs": [
    {
     "name": "stdout",
     "output_type": "stream",
     "text": [
      " call:./paper_data/B180506.TXT\n",
      "finish:21.42658805847168sec\n"
     ]
    }
   ],
   "source": [
    "st=time.time()\n",
    "for file in glob.glob(path+\"*.TXT\"):\n",
    "    sys.stdout.write(\"\\r call:{}\".format(file))\n",
    "    tmp_data=pd.DataFrame(columns=data.columns)\n",
    "    date=file.replace(path,\"\")\n",
    "    date=date.replace(\".TXT\",\"\")\n",
    "    tmp_data=get_data(date,tmp_data,file,place_catch)\n",
    "    data=pd.concat([data,tmp_data],axis=0)\n",
    "print(\"\\nfinish:{}sec\".format(time.time()-st))"
   ]
  },
  {
   "cell_type": "code",
   "execution_count": 47,
   "metadata": {},
   "outputs": [],
   "source": [
    "data.to_csv(\"csv_files/paper_data.csv\",encoding=\"shift_jis\")"
   ]
  },
  {
   "cell_type": "code",
   "execution_count": null,
   "metadata": {},
   "outputs": [],
   "source": []
  }
 ],
 "metadata": {
  "kernelspec": {
   "display_name": "Python 3",
   "language": "python",
   "name": "python3"
  },
  "language_info": {
   "codemirror_mode": {
    "name": "ipython",
    "version": 3
   },
   "file_extension": ".py",
   "mimetype": "text/x-python",
   "name": "python",
   "nbconvert_exporter": "python",
   "pygments_lexer": "ipython3",
   "version": "3.6.4"
  }
 },
 "nbformat": 4,
 "nbformat_minor": 2
}
