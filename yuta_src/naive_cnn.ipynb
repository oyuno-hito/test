{
 "cells": [
  {
   "cell_type": "code",
   "execution_count": 35,
   "metadata": {},
   "outputs": [],
   "source": [
    "import pandas as pd\n",
    "path=\"../data/all_data.csv\"\n",
    "df=pd.read_csv(path,encoding=\"shift-jis\")"
   ]
  },
  {
   "cell_type": "code",
   "execution_count": 36,
   "metadata": {},
   "outputs": [],
   "source": [
    "df[\"player_rank\"]=df[\"player_rank\"].replace({\"B2\":0,\"B1\":1,\"A2\":2,\"A1\":3})\n",
    "#順位の転覆、フライングあたりを全て6位に置換してint型に\n",
    "df[\"goal\"]=df[\"goal\"].replace({\"S1\":6,\"S2\":6,\"K1\":6,\"K2\":6,\"L1\":6,\"L2\":6})\n",
    "df[\"goal\"]=df[\"goal\"].replace({\"F\":6,\"S\":6,\"K\":6,\"L\":6})\n",
    "df[\"goal\"]=df[\"goal\"].astype(int)\n",
    "\n",
    "#スタート展示でやらかしてる選手を除外\n",
    "df=df[df[\"shinnyu\"]!=\"L\"]\n",
    "df=df[df[\"shinnyu\"]!=\".\"]\n",
    "df[\"shinnyu\"]=df[\"shinnyu\"].astype(int)\n",
    "df=df[df[\"start\"]!=\".\"]\n",
    "df=df[df[\"start\"]!=\"K\"]\n",
    "df=df[df[\"start\"]!=\"L\"]\n",
    "#スタート展示でフライングしている選手のFをマイナスに置換\n",
    "df[\"start\"]=df[\"start\"].str.replace(\"F\",\"-\")\n",
    "df[\"start\"]=df[\"start\"].astype(float)"
   ]
  },
  {
   "cell_type": "code",
   "execution_count": 16,
   "metadata": {},
   "outputs": [],
   "source": [
    "date_num=df[\"date\"].unique()"
   ]
  },
  {
   "cell_type": "code",
   "execution_count": 21,
   "metadata": {},
   "outputs": [],
   "source": [
    "parse=int(len(date_num)*0.8)\n",
    "train=date_num[:parse]\n",
    "test=date_num[parse:]"
   ]
  },
  {
   "cell_type": "code",
   "execution_count": 72,
   "metadata": {},
   "outputs": [],
   "source": [
    "import pickle\n",
    "import os\n",
    "train_path=\"../data/pickle/test/\"\n",
    "for i in test:\n",
    "    tmp=df[df[\"date\"]==i][\"race_num\"].value_counts()\n",
    "    tmp=tmp[tmp==6]\n",
    "    for j in tmp.index:\n",
    "        name=train_path+str(i)+\"_\"+str(j)+\".pickle\"\n",
    "        with open(name,\"wb\") as f:\n",
    "            pickle.dump(df[(df[\"date\"]==i) & (df[\"race_num\"]==j)],f)"
   ]
  },
  {
   "cell_type": "code",
   "execution_count": 75,
   "metadata": {},
   "outputs": [],
   "source": [
    "t=\"../data/pickle/train/180101_1.pickle\"\n",
    "with open(t,\"rb\") as f:\n",
    "    l=pickle.load(f)\n",
    "    "
   ]
  }
 ],
 "metadata": {
  "kernelspec": {
   "display_name": "Python 3",
   "language": "python",
   "name": "python3"
  },
  "language_info": {
   "codemirror_mode": {
    "name": "ipython",
    "version": 3
   },
   "file_extension": ".py",
   "mimetype": "text/x-python",
   "name": "python",
   "nbconvert_exporter": "python",
   "pygments_lexer": "ipython3",
   "version": "3.6.8"
  }
 },
 "nbformat": 4,
 "nbformat_minor": 2
}
